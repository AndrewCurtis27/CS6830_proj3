{
 "cells": [
  {
   "cell_type": "code",
   "execution_count": null,
   "id": "42856650-608c-44c3-a81e-fec5a1018073",
   "metadata": {},
   "outputs": [],
   "source": [
    "import requests\n",
    "import re\n",
    "from bs4 import BeautifulSoup\n",
    "import pandas as pd\n",
    "import seaborn as sns\n",
    "import matplotlib.pyplot as plt\n",
    "from scipy import stats"
   ]
  },
  {
   "cell_type": "markdown",
   "id": "4ff20122-abeb-42ee-9cd0-5e07dce58a69",
   "metadata": {},
   "source": [
    "# NYTimes Bestselling List\n",
    "### Available data: Title, Author, Publisher, Description, Weeks on Best Selling list"
   ]
  },
  {
   "cell_type": "code",
   "execution_count": null,
   "id": "2920cdce-2e9b-4aec-a7c5-7f207fcc0c1a",
   "metadata": {},
   "outputs": [],
   "source": [
    "urls = {\n",
    "    'combined print and ebook fiction':'https://www.nytimes.com/books/best-sellers/combined-print-and-e-book-fiction/',\n",
    "    'combined print and ebook non-fiction':'https://www.nytimes.com/books/best-sellers/combined-print-and-e-book-nonfiction/',\n",
    "    'hardcover fiction':'https://www.nytimes.com/books/best-sellers/hardcover-fiction/',\n",
    "    'hardcover non-fiction':'https://www.nytimes.com/books/best-sellers/hardcover-nonfiction/',\n",
    "    'paperback fiction':'https://www.nytimes.com/books/best-sellers/trade-fiction-paperback/',\n",
    "    'paperback non-fiction':'https://www.nytimes.com/books/best-sellers/paperback-nonfiction/',\n",
    "    'advice':'https://www.nytimes.com/books/best-sellers/advice-how-to-and-miscellaneous/',\n",
    "    'childrens hardcover':'https://www.nytimes.com/books/best-sellers/childrens-middle-grade-hardcover/',\n",
    "    'childrens picture':'https://www.nytimes.com/books/best-sellers/picture-books/',\n",
    "    'childrens series':'https://www.nytimes.com/books/best-sellers/series-books/', \n",
    "    'young adult hardcover':'https://www.nytimes.com/books/best-sellers/young-adult-hardcover/'\n",
    "}\n",
    "\n",
    "Lists = ['combined print and ebook fiction', 'combined print and ebook non-fiction', 'hardcover fiction', 'hardcover non-fiction', \n",
    "        'paperback fiction', 'paperback non-fiction', 'advice', 'childrens hardcover', 'childrens picture', 'childrens series', 'young adult hardcover']\n",
    "sites = [requests.get(url) for url in urls.values()]\n",
    "\n",
    "titles=[]\n",
    "descriptions=[]\n",
    "\n",
    "list(sites[0])[0]\n",
    "all_ny_df = pd.DataFrame(columns =['List', 'Title', 'Author', 'Publisher', 'Weeks_on_list', 'Description'])\n",
    "\n",
    "count = 0\n",
    "for html in sites:\n",
    "    List = Lists[count]\n",
    "    list_data = []\n",
    "    rank = []\n",
    "    count+=1\n",
    "    \n",
    "    \n",
    "    \n",
    "    soup = BeautifulSoup(html.text, 'html5lib')\n",
    "    titles = [title.text for title in soup.findAll('h3')]\n",
    "\n",
    "    publishers = soup('p', attrs={'class':'css-heg334'})\n",
    "    publishers = [publisher.text for publisher in publishers]\n",
    "\n",
    "    authors = soup('p', attrs={'class':'css-hjukut'})\n",
    "    authors = [author.text for author in authors]\n",
    "    authors = [author.replace(\"by \", \"\") for author in authors]\n",
    "\n",
    "    weeks_on_list = soup('p', attrs={'class':'css-1o26r9v'})\n",
    "    weeks_on_list = [week.text for week in weeks_on_list]\n",
    "    wol = []\n",
    "    for week in weeks_on_list:\n",
    "        if week == 'New this week':\n",
    "            wol.append(0)\n",
    "        else: \n",
    "            wol.append(int(re.findall('[0-9]+', week)[0]))\n",
    "\n",
    "    descriptions = soup('p', attrs={'class':'css-14lubdp'})\n",
    "    descriptions = [description.text for description in descriptions]\n",
    "    \n",
    "    for i in range(len(authors)):\n",
    "        list_data.append(List)\n",
    "    for i in range(len(authors)):\n",
    "        rank.append(i+1)\n",
    "    \n",
    "    list_df = pd.DataFrame(list(zip(list_data, rank, titles, authors, publishers, wol, descriptions)),\n",
    "                   columns =['List', 'Rank', 'Title', 'Author', 'Publisher', 'Weeks_on_list', 'Description'])\n",
    "    \n",
    "    \n",
    "    all_ny_df = pd.concat([all_ny_df, list_df])\n",
    "\n",
    "by_type = all_ny_df[['List', 'Title', 'Author', 'Weeks_on_list']]\n",
    "all_ny_df"
   ]
  },
  {
   "cell_type": "code",
   "execution_count": null,
   "id": "64009de9-1e65-4cd0-916f-26fb83a414d7",
   "metadata": {},
   "outputs": [],
   "source": [
    "all_ny_df = all_ny_df[all_ny_df.Weeks_on_list <400]\n",
    "# all_ny_df['Weeks_on_list'] = [all_ny_df.Weeks_on_list for week in Weeks_on_list if all_ny_df.Weeks_on_list < 400]\n",
    "all_ny_df"
   ]
  },
  {
   "cell_type": "code",
   "execution_count": null,
   "id": "2e5d5f4f-cd0d-464a-876d-9ba2f0c0a65c",
   "metadata": {},
   "outputs": [],
   "source": [
    "all_ny_df['Weeks_on_list'] = all_ny_df['Weeks_on_list'].astype(int)"
   ]
  },
  {
   "cell_type": "markdown",
   "id": "e6dec48f-94de-4dc2-b148-13d19ca6cb56",
   "metadata": {},
   "source": [
    "# Does Rank Correlate with Time on Bestselling List"
   ]
  },
  {
   "cell_type": "code",
   "execution_count": null,
   "id": "5c6a7493-80bd-46b4-9e75-aba0f9c50bcf",
   "metadata": {},
   "outputs": [],
   "source": [
    "print(\"mean: \" + f\"{all_ny_df['Weeks_on_list'].mean()}\")\n",
    "print(\"std: \" + f\"{all_ny_df['Weeks_on_list'].std()}\")"
   ]
  },
  {
   "cell_type": "code",
   "execution_count": null,
   "id": "a2850d93-9075-4170-bea7-776d57358ff1",
   "metadata": {},
   "outputs": [],
   "source": [
    "g3 = sns.countplot(data=all_ny_df, x='Weeks_on_list')"
   ]
  },
  {
   "cell_type": "code",
   "execution_count": null,
   "id": "a4ee346a-fee5-466c-862a-8e4496270e3e",
   "metadata": {},
   "outputs": [],
   "source": [
    "g = sns.regplot(data=all_ny_df, x='Rank', y='Weeks_on_list')\n",
    "# g.set(ylabel = 'Weeks on Bestselling List', fontsize=15)\n",
    "# plt.ylabel('Weeks on Bestselling List')\n",
    "plt.title ('Does Rank Correlate with Time on Bestselling List?', size='x-large', fontweight='bold')\n",
    "plt.xlabel('Rank', size='xx-large')\n",
    "plt.ylabel('Weeks on Bestselling List', size='xx-large')\n",
    "plt.savefig('Weeks_Rank.png')\n",
    "plt.show()\n",
    "plt.close()"
   ]
  },
  {
   "cell_type": "code",
   "execution_count": null,
   "id": "ec5b7344-dfd7-4205-82b4-51e543ce8a46",
   "metadata": {},
   "outputs": [],
   "source": [
    "display(stats.pearsonr(all_ny_df['Rank'], all_ny_df['Weeks_on_list']))"
   ]
  },
  {
   "cell_type": "markdown",
   "id": "0b82f0d5-72cb-4ac1-88a1-e00b54bbf040",
   "metadata": {},
   "source": [
    "# Boxplots on weeks on list grouped by author and publisher"
   ]
  },
  {
   "cell_type": "code",
   "execution_count": null,
   "id": "cab96673-6d61-46d7-a1be-6661792d442f",
   "metadata": {},
   "outputs": [],
   "source": [
    "g2 = sns.boxplot(data=all_ny_df, x='Weeks_on_list')\n",
    "plt.title ('Weeks on Bestselling List Boxplot', size='x-large', fontweight='bold')\n",
    "plt.xlabel('Weeks', size='xx-large')\n",
    "plt.savefig('Weeks_Box.png')\n",
    "plt.show()\n",
    "plt.close()"
   ]
  },
  {
   "cell_type": "code",
   "execution_count": null,
   "id": "0e898aa7-42bc-4e9b-bb84-e74bb411c764",
   "metadata": {},
   "outputs": [],
   "source": [
    "all_ny_df['Weeks_on_list'] = all_ny_df['Weeks_on_list'].astype(int)"
   ]
  },
  {
   "cell_type": "code",
   "execution_count": null,
   "id": "baa44bd8-3635-4011-996b-8f5bbbe0703d",
   "metadata": {},
   "outputs": [],
   "source": [
    "# temp = df1.groupby(['Zip_Code_Crime', 'Populationbelowpovertylevel','Percentageofhomeswithin1/4-mioftransitstop' ,'Averagemonthlytransportationcost' ])['Highest_NIBRS_UCR_Offense_Description'].count().reset_index()\n",
    "\n",
    "# publishers = all_ny_df.groupby(['Publisher'])['Weeks_on_list'].agg('sum').reset_index()\n",
    "publishers = all_ny_df.groupby(['Publisher']).agg('sum').reset_index()\n",
    "publishers\n",
    "\n",
    "sort_pub = publishers.sort_values(['Weeks_on_list'], ascending=False)\n",
    "sort_pub\n",
    "sort_pub = sort_pub.head(10)\n",
    "sort_pub\n",
    "\n",
    "\n",
    "\n",
    "g4 = sns.barplot(data=sort_pub, x='Publisher', y='Weeks_on_list')\n",
    "plt.title ('Weeks on Bestselling List by Publisher', size='x-large', fontweight='bold')\n",
    "plt.xlabel('Publisher', size='xx-large')\n",
    "plt.ylabel('Weeks on Bestselling List', size='xx-large')\n",
    "plt.savefig('Weeks_Publisher.png')\n",
    "plt.show()\n",
    "plt.close()"
   ]
  },
  {
   "cell_type": "code",
   "execution_count": null,
   "id": "efc4caee-de3e-4ff4-9aae-b7ee096f4536",
   "metadata": {},
   "outputs": [],
   "source": [
    "authors = all_ny_df.groupby(['Author']).agg('sum').reset_index()\n",
    "authors\n",
    "\n",
    "sort_auth = authors.sort_values(['Weeks_on_list'], ascending=False)\n",
    "sort_auth\n",
    "sort_auth = sort_auth.head(10)\n",
    "sort_auth\n",
    "\n",
    "\n",
    "\n",
    "# sns.barplot(data=sort_pub, x='Publisher', y='Weeks_on_list')\n",
    "\n",
    "g2 = sns.barplot(data=sort_auth, y='Weeks_on_list', x=\"Author\", palette='Set2')\n",
    "plt.title ('Weeks on Bestselling List by Author', size='x-large', fontweight='bold')\n",
    "plt.xlabel('Author', size='xx-large')\n",
    "plt.ylabel('Weeks on Bestselling List', size='xx-large')\n",
    "plt.savefig('Weeks_Author.png')\n",
    "plt.show()\n",
    "plt.close()"
   ]
  },
  {
   "cell_type": "code",
   "execution_count": null,
   "id": "df08bdd5-e08d-4ddf-a155-d0e917d703ab",
   "metadata": {},
   "outputs": [],
   "source": [
    "from collections import Counter\n",
    "from nltk.corpus import stopwords\n",
    "from nltk.tokenize import word_tokenize\n",
    "stop_words = set(stopwords.words('english'))\n",
    "# Import stopwords with scikit-learn\n",
    "from sklearn.feature_extraction import text\n",
    "stop = text.ENGLISH_STOP_WORDS\n",
    "\n",
    "\n",
    "# all_ny_df['tokenized_desc'] = df['Description'].apply(lambda x: (x.lower()).split())\n",
    "\n",
    "all_ny_df['desc_without_stop'] = all_ny_df['Description'].apply(lambda x: ' '.join([word for word in x.split() if word not in (stop)]))\n",
    "all_ny_df\n",
    "\n",
    "common_words = Counter(\" \".join(all_ny_df[\"desc_without_stop\"].str.lower()).split()).most_common(25)\n",
    "\n"
   ]
  },
  {
   "cell_type": "code",
   "execution_count": null,
   "id": "519cfb7e-2df2-48d3-9756-310c7ce70215",
   "metadata": {},
   "outputs": [],
   "source": [
    "common_df = pd.DataFrame(common_words, columns =['Most Common Words', 'Count'])\n",
    "print(common_df)\n",
    "import dataframe_image as dfi\n"
   ]
  },
  {
   "cell_type": "code",
   "execution_count": null,
   "id": "06607a5d-3734-48ed-8917-380752231a76",
   "metadata": {},
   "outputs": [],
   "source": [
    "\n",
    "word = []\n",
    "count = []\n",
    "for key, value in common_words:\n",
    "    word.append(key)\n",
    "    count.append(value)\n",
    "    \n",
    "# plt.bar(word, count, width=1.0)\n",
    "sns.set(rc={'figure.figsize':(18,6)})\n",
    "sns.barplot(x= word, y=count)\n",
    "plt.title('Most Common Words in Bestselling Book Descriptions', size='x-large', fontweight='bold')\n",
    "plt.savefig('common_words.png')\n",
    "plt.close()"
   ]
  },
  {
   "cell_type": "code",
   "execution_count": 45,
   "id": "e92c2c6a",
   "metadata": {},
   "outputs": [
    {
     "name": "stderr",
     "output_type": "stream",
     "text": [
      "/tmp/ipykernel_2658/2481357319.py:1: SettingWithCopyWarning: \n",
      "A value is trying to be set on a copy of a slice from a DataFrame.\n",
      "Try using .loc[row_indexer,col_indexer] = value instead\n",
      "\n",
      "See the caveats in the documentation: https://pandas.pydata.org/pandas-docs/stable/user_guide/indexing.html#returning-a-view-versus-a-copy\n",
      "  by_type['Weeks_on_list'] = by_type['Weeks_on_list'].astype(int)\n",
      "/tmp/ipykernel_2658/2481357319.py:7: SettingWithCopyWarning: \n",
      "A value is trying to be set on a copy of a slice from a DataFrame\n",
      "\n",
      "See the caveats in the documentation: https://pandas.pydata.org/pandas-docs/stable/user_guide/indexing.html#returning-a-view-versus-a-copy\n",
      "  by_type_stats['Type'][4] = 'print/ebook fiction'\n",
      "/tmp/ipykernel_2658/2481357319.py:8: SettingWithCopyWarning: \n",
      "A value is trying to be set on a copy of a slice from a DataFrame\n",
      "\n",
      "See the caveats in the documentation: https://pandas.pydata.org/pandas-docs/stable/user_guide/indexing.html#returning-a-view-versus-a-copy\n",
      "  by_type_stats['Type'][5] = 'print/ebook non-fiction'\n"
     ]
    }
   ],
   "source": [
    "by_type['Weeks_on_list'] = by_type['Weeks_on_list'].astype(int)\n",
    "by_type_mean = by_type.groupby(by_type.List).agg({'Weeks_on_list':'mean'}).reset_index()\n",
    "by_type_std = by_type.groupby(by_type.List).agg({'Weeks_on_list':'std'}).reset_index()\n",
    "by_type_mean.rename(columns={'List': 'Type','Weeks_on_list':'Mean'}, inplace=True)\n",
    "by_type_std.rename(columns={'List': 'Type','Weeks_on_list':'Std'}, inplace=True)\n",
    "by_type_stats = pd.merge(by_type_mean, by_type_std, on='Type')\n",
    "by_type_stats['Type'][4] = 'print/ebook fiction'\n",
    "by_type_stats['Type'][5] = 'print/ebook non-fiction'\n",
    "\n",
    "for i in range(len(by_type)):\n",
    "    type = by_type.iloc[i]['List']\n",
    "    if  (type == 'combined print and ebook fiction') | (type == 'hardcover fiction') | (type == 'paperback fiction'):\n",
    "        by_type.iloc[[i],[0]] = 'fiction'\n",
    "    elif  type == 'combined print and ebook non-fiction' or type == 'hardcover non-fiction' or type == 'paperback non-fiction' or type == 'advice':\n",
    "        by_type.iloc[[i],[0]] = 'non-fiction'\n",
    "    else: \n",
    "        by_type.iloc[[i],[0]] = 'childrens'"
   ]
  },
  {
   "cell_type": "code",
   "execution_count": 46,
   "id": "315570b6",
   "metadata": {},
   "outputs": [
    {
     "data": {
      "text/html": [
       "<div>\n",
       "<style scoped>\n",
       "    .dataframe tbody tr th:only-of-type {\n",
       "        vertical-align: middle;\n",
       "    }\n",
       "\n",
       "    .dataframe tbody tr th {\n",
       "        vertical-align: top;\n",
       "    }\n",
       "\n",
       "    .dataframe thead th {\n",
       "        text-align: right;\n",
       "    }\n",
       "</style>\n",
       "<table border=\"1\" class=\"dataframe\">\n",
       "  <thead>\n",
       "    <tr style=\"text-align: right;\">\n",
       "      <th></th>\n",
       "      <th>List</th>\n",
       "      <th>Title</th>\n",
       "      <th>Author</th>\n",
       "      <th>Weeks_on_list</th>\n",
       "    </tr>\n",
       "  </thead>\n",
       "  <tbody>\n",
       "    <tr>\n",
       "      <th>0</th>\n",
       "      <td>childrens</td>\n",
       "      <td>Books|Best Sellers</td>\n",
       "      <td>Colleen Hoover</td>\n",
       "      <td>86</td>\n",
       "    </tr>\n",
       "    <tr>\n",
       "      <th>1</th>\n",
       "      <td>childrens</td>\n",
       "      <td>IT ENDS WITH US</td>\n",
       "      <td>Colleen Hoover</td>\n",
       "      <td>16</td>\n",
       "    </tr>\n",
       "    <tr>\n",
       "      <th>2</th>\n",
       "      <td>childrens</td>\n",
       "      <td>IT STARTS WITH US</td>\n",
       "      <td>Bonnie Garmus</td>\n",
       "      <td>13</td>\n",
       "    </tr>\n",
       "    <tr>\n",
       "      <th>3</th>\n",
       "      <td>childrens</td>\n",
       "      <td>LESSONS IN CHEMISTRY</td>\n",
       "      <td>Colleen Hoover</td>\n",
       "      <td>61</td>\n",
       "    </tr>\n",
       "    <tr>\n",
       "      <th>4</th>\n",
       "      <td>childrens</td>\n",
       "      <td>VERITY</td>\n",
       "      <td>Colleen Hoover</td>\n",
       "      <td>0</td>\n",
       "    </tr>\n",
       "    <tr>\n",
       "      <th>...</th>\n",
       "      <td>...</td>\n",
       "      <td>...</td>\n",
       "      <td>...</td>\n",
       "      <td>...</td>\n",
       "    </tr>\n",
       "    <tr>\n",
       "      <th>5</th>\n",
       "      <td>childrens</td>\n",
       "      <td>FIVE SURVIVE</td>\n",
       "      <td>Adam Silvera</td>\n",
       "      <td>18</td>\n",
       "    </tr>\n",
       "    <tr>\n",
       "      <th>6</th>\n",
       "      <td>childrens</td>\n",
       "      <td>THE FIRST TO DIE AT THE END</td>\n",
       "      <td>Karen M. McManus</td>\n",
       "      <td>262</td>\n",
       "    </tr>\n",
       "    <tr>\n",
       "      <th>7</th>\n",
       "      <td>childrens</td>\n",
       "      <td>ONE OF US IS LYING</td>\n",
       "      <td>Alex Aster</td>\n",
       "      <td>24</td>\n",
       "    </tr>\n",
       "    <tr>\n",
       "      <th>8</th>\n",
       "      <td>childrens</td>\n",
       "      <td>LIGHTLARK</td>\n",
       "      <td>Kiera Cass</td>\n",
       "      <td>8</td>\n",
       "    </tr>\n",
       "    <tr>\n",
       "      <th>9</th>\n",
       "      <td>childrens</td>\n",
       "      <td>A THOUSAND HEARTBEATS</td>\n",
       "      <td>Alice Oseman</td>\n",
       "      <td>30</td>\n",
       "    </tr>\n",
       "  </tbody>\n",
       "</table>\n",
       "<p>140 rows × 4 columns</p>\n",
       "</div>"
      ],
      "text/plain": [
       "         List                        Title            Author  Weeks_on_list\n",
       "0   childrens           Books|Best Sellers    Colleen Hoover             86\n",
       "1   childrens              IT ENDS WITH US    Colleen Hoover             16\n",
       "2   childrens            IT STARTS WITH US     Bonnie Garmus             13\n",
       "3   childrens         LESSONS IN CHEMISTRY    Colleen Hoover             61\n",
       "4   childrens                       VERITY    Colleen Hoover              0\n",
       "..        ...                          ...               ...            ...\n",
       "5   childrens                 FIVE SURVIVE      Adam Silvera             18\n",
       "6   childrens  THE FIRST TO DIE AT THE END  Karen M. McManus            262\n",
       "7   childrens           ONE OF US IS LYING        Alex Aster             24\n",
       "8   childrens                    LIGHTLARK        Kiera Cass              8\n",
       "9   childrens        A THOUSAND HEARTBEATS      Alice Oseman             30\n",
       "\n",
       "[140 rows x 4 columns]"
      ]
     },
     "execution_count": 46,
     "metadata": {},
     "output_type": "execute_result"
    }
   ],
   "source": [
    "        \n",
    "by_type_mean = by_type.groupby(by_type.List).agg({'Weeks_on_list':'mean'}).reset_index()\n",
    "by_type_std = by_type.groupby(by_type.List).agg({'Weeks_on_list':'std'}).reset_index()\n",
    "by_type_mean.rename(columns={'List': 'Type','Weeks_on_list':'Mean'}, inplace=True)\n",
    "by_type_std.rename(columns={'List': 'Type','Weeks_on_list':'Std'}, inplace=True)\n",
    "condensed_stats = pd.merge(by_type_mean, by_type_std, on='Type')       \n",
    "by_type"
   ]
  },
  {
   "cell_type": "code",
   "execution_count": 47,
   "id": "3a0a5509",
   "metadata": {},
   "outputs": [
    {
     "data": {
      "text/html": [
       "<div>\n",
       "<style scoped>\n",
       "    .dataframe tbody tr th:only-of-type {\n",
       "        vertical-align: middle;\n",
       "    }\n",
       "\n",
       "    .dataframe tbody tr th {\n",
       "        vertical-align: top;\n",
       "    }\n",
       "\n",
       "    .dataframe thead th {\n",
       "        text-align: right;\n",
       "    }\n",
       "</style>\n",
       "<table border=\"1\" class=\"dataframe\">\n",
       "  <thead>\n",
       "    <tr style=\"text-align: right;\">\n",
       "      <th></th>\n",
       "      <th>Type</th>\n",
       "      <th>Mean</th>\n",
       "      <th>Std</th>\n",
       "    </tr>\n",
       "  </thead>\n",
       "  <tbody>\n",
       "    <tr>\n",
       "      <th>0</th>\n",
       "      <td>childrens</td>\n",
       "      <td>61.6</td>\n",
       "      <td>119.787089</td>\n",
       "    </tr>\n",
       "  </tbody>\n",
       "</table>\n",
       "</div>"
      ],
      "text/plain": [
       "        Type  Mean         Std\n",
       "0  childrens  61.6  119.787089"
      ]
     },
     "metadata": {},
     "output_type": "display_data"
    },
    {
     "data": {
      "text/plain": [
       "Text(0.5, 1.0, 'Average Number of Weeks on the Bestseller List by Type of Book')"
      ]
     },
     "execution_count": 47,
     "metadata": {},
     "output_type": "execute_result"
    },
    {
     "data": {
      "image/png": "[encoded data removed]",
      "text/plain": [
       "<Figure size 640x480 with 1 Axes>"
      ]
     },
     "metadata": {},
     "output_type": "display_data"
    }
   ],
   "source": [
    "display(condensed_stats)\n",
    "plt.figure()\n",
    "ax = sns.barplot(data=condensed_stats, x='Type', y='Mean')\n",
    "ax.set_ylabel(\"Average Number of Weeks on Bestseller List\")\n",
    "ax.set_xlabel(\"Category\")\n",
    "ax.set_title(\"Average Number of Weeks on the Bestseller List by Type of Book\")"
   ]
  },
  {
   "cell_type": "code",
   "execution_count": 48,
   "id": "f2faa773",
   "metadata": {},
   "outputs": [
    {
     "data": {
      "text/plain": [
       "Ttest_indResult(statistic=nan, pvalue=nan)"
      ]
     },
     "metadata": {},
     "output_type": "display_data"
    },
    {
     "data": {
      "text/plain": [
       "Ttest_indResult(statistic=nan, pvalue=nan)"
      ]
     },
     "metadata": {},
     "output_type": "display_data"
    },
    {
     "data": {
      "text/plain": [
       "Ttest_indResult(statistic=nan, pvalue=nan)"
      ]
     },
     "metadata": {},
     "output_type": "display_data"
    }
   ],
   "source": [
    "display(stats.ttest_ind(by_type[by_type.List == 'fiction'].Weeks_on_list, by_type[by_type.List == 'non-fiction'].Weeks_on_list))\n",
    "display(stats.ttest_ind(by_type[by_type.List == 'childrens'].Weeks_on_list, by_type[by_type.List == 'fiction'].Weeks_on_list))\n",
    "display(stats.ttest_ind(by_type[by_type.List == 'childrens'].Weeks_on_list, by_type[by_type.List == 'non-fiction'].Weeks_on_list))"
   ]
  },
  {
   "cell_type": "code",
   "execution_count": 49,
   "id": "73745bfa",
   "metadata": {},
   "outputs": [
    {
     "data": {
      "text/html": [
       "<div>\n",
       "<style scoped>\n",
       "    .dataframe tbody tr th:only-of-type {\n",
       "        vertical-align: middle;\n",
       "    }\n",
       "\n",
       "    .dataframe tbody tr th {\n",
       "        vertical-align: top;\n",
       "    }\n",
       "\n",
       "    .dataframe thead th {\n",
       "        text-align: right;\n",
       "    }\n",
       "</style>\n",
       "<table border=\"1\" class=\"dataframe\">\n",
       "  <thead>\n",
       "    <tr style=\"text-align: right;\">\n",
       "      <th></th>\n",
       "      <th>Type</th>\n",
       "      <th>Mean</th>\n",
       "      <th>Std</th>\n",
       "    </tr>\n",
       "  </thead>\n",
       "  <tbody>\n",
       "    <tr>\n",
       "      <th>0</th>\n",
       "      <td>childrens</td>\n",
       "      <td>110.700000</td>\n",
       "      <td>194.026062</td>\n",
       "    </tr>\n",
       "    <tr>\n",
       "      <th>1</th>\n",
       "      <td>fiction</td>\n",
       "      <td>32.777778</td>\n",
       "      <td>34.592359</td>\n",
       "    </tr>\n",
       "    <tr>\n",
       "      <th>2</th>\n",
       "      <td>non-fiction</td>\n",
       "      <td>49.472727</td>\n",
       "      <td>78.380566</td>\n",
       "    </tr>\n",
       "  </tbody>\n",
       "</table>\n",
       "</div>"
      ],
      "text/plain": [
       "          Type        Mean         Std\n",
       "0    childrens  110.700000  194.026062\n",
       "1      fiction   32.777778   34.592359\n",
       "2  non-fiction   49.472727   78.380566"
      ]
     },
     "metadata": {},
     "output_type": "display_data"
    },
    {
     "data": {
      "image/png": "[encoded data removed]",
      "text/plain": [
       "<Figure size 640x480 with 1 Axes>"
      ]
     },
     "metadata": {},
     "output_type": "display_data"
    }
   ],
   "source": [
    "plt.figure()\n",
    "ax = sns.barplot(data=by_type_stats, x='Type', y='Mean')\n",
    "ax.tick_params(axis='x', rotation=-90, labelsize=10)\n",
    "ax.set_ylabel(\"Average Number of Weeks on Bestseller List\")\n",
    "ax.set_xlabel(\"Category\")\n",
    "ax.set_title(\"Average Number of Weeks on the Bestseller List by Type of Book\")\n",
    "display(by_type_stats)"
   ]
  },
  {
   "cell_type": "markdown",
   "id": "3834233c-4292-4865-a0c1-592956d18038",
   "metadata": {},
   "source": [
    "# Wikipedia Best Selling all time\n",
    "### Data Available: Title, Author, Language, Date, Copies sold, Genre"
   ]
  },
  {
   "cell_type": "code",
   "execution_count": 58,
   "id": "6c202316-8c05-41bb-be82-9e8608b925b3",
   "metadata": {},
   "outputs": [],
   "source": [
    "html = requests.get('https://en.wikipedia.org/wiki/List_of_best-selling_books', timeout=(5, 30))\n",
    "soup = BeautifulSoup(html.text, 'html5lib')"
   ]
  },
  {
   "cell_type": "code",
   "execution_count": 59,
   "id": "db211b18-a6d6-46cb-941c-f69fbfefd794",
   "metadata": {
    "jupyter": {
     "outputs_hidden": true
    },
    "tags": []
   },
   "outputs": [],
   "source": [
    "for titles in soup.find_all('a', href=True):\n",
    "    titles.get_attribute_list('title')"
   ]
  },
  {
   "cell_type": "code",
   "execution_count": 60,
   "id": "49685829-1a44-4fc7-b13a-08636bbf282f",
   "metadata": {
    "tags": []
   },
   "outputs": [],
   "source": [
    "titles = set()\n",
    "authors = set()\n",
    "genres = set()\n",
    "trash = set()\n",
    "languages = []\n",
    "dates = []\n",
    "sales = []\n",
    "genres = []\n",
    "info = []\n",
    "counter = 0\n",
    "for items in soup.find_all('table'):\n",
    "    counter+=1\n",
    "    for books in items.find_all('tr'):\n",
    "        for columns in books.find_all('td'):\n",
    "\n",
    "            info.append(columns.text)\n",
    "    if counter == 3:\n",
    "        break"
   ]
  },
  {
   "cell_type": "code",
   "execution_count": 61,
   "id": "64170996-38c6-4f12-a7b7-123e95388dc1",
   "metadata": {
    "tags": []
   },
   "outputs": [],
   "source": [
    "titles = info[0::6]\n",
    "titles = [title.rstrip() for title in titles]\n",
    "\n",
    "\n",
    "authors = info[1::6]\n",
    "authors = [author.rstrip() for author in authors]\n",
    "\n",
    "\n",
    "languages = info[2::6]\n",
    "languages = [language.rstrip() for language in languages]\n",
    "\n",
    "\n",
    "dates = info[3::6]\n",
    "dates = [int(re.findall('[0-9]+', date)[0]) for date in dates]\n",
    "\n",
    "copies_sold = info[4::6]\n",
    "copies_sold = [int(re.findall('[0-9]+', copies)[0]) for copies in copies_sold]\n",
    "\n",
    "genres =info[5::6]\n",
    "genres = [genre.lower().rstrip() for genre in genres]\n"
   ]
  },
  {
   "cell_type": "code",
   "execution_count": 62,
   "id": "4b472d11-c25b-4c31-84e0-d274fb6fdb69",
   "metadata": {},
   "outputs": [
    {
     "data": {
      "text/html": [
       "<div>\n",
       "<style scoped>\n",
       "    .dataframe tbody tr th:only-of-type {\n",
       "        vertical-align: middle;\n",
       "    }\n",
       "\n",
       "    .dataframe tbody tr th {\n",
       "        vertical-align: top;\n",
       "    }\n",
       "\n",
       "    .dataframe thead th {\n",
       "        text-align: right;\n",
       "    }\n",
       "</style>\n",
       "<table border=\"1\" class=\"dataframe\">\n",
       "  <thead>\n",
       "    <tr style=\"text-align: right;\">\n",
       "      <th></th>\n",
       "      <th>Title</th>\n",
       "      <th>Author</th>\n",
       "      <th>Language</th>\n",
       "      <th>Publication Date</th>\n",
       "      <th>Copies Sold (millions)</th>\n",
       "      <th>Genre</th>\n",
       "    </tr>\n",
       "  </thead>\n",
       "  <tbody>\n",
       "    <tr>\n",
       "      <th>0</th>\n",
       "      <td>Don Quixote</td>\n",
       "      <td>Miguel de Cervantes</td>\n",
       "      <td>Spanish</td>\n",
       "      <td>1605</td>\n",
       "      <td>500</td>\n",
       "      <td>adventure fiction</td>\n",
       "    </tr>\n",
       "    <tr>\n",
       "      <th>1</th>\n",
       "      <td>A Tale of Two Cities</td>\n",
       "      <td>Charles Dickens</td>\n",
       "      <td>English</td>\n",
       "      <td>1859</td>\n",
       "      <td>200</td>\n",
       "      <td>historical fiction</td>\n",
       "    </tr>\n",
       "    <tr>\n",
       "      <th>2</th>\n",
       "      <td>The Little Prince (Le Petit Prince)</td>\n",
       "      <td>Antoine de Saint-Exupéry</td>\n",
       "      <td>French</td>\n",
       "      <td>1943</td>\n",
       "      <td>200</td>\n",
       "      <td>novella</td>\n",
       "    </tr>\n",
       "    <tr>\n",
       "      <th>3</th>\n",
       "      <td>Harry Potter and the Philosopher's Stone</td>\n",
       "      <td>J. K. Rowling</td>\n",
       "      <td>English</td>\n",
       "      <td>1997</td>\n",
       "      <td>120</td>\n",
       "      <td>fantasy</td>\n",
       "    </tr>\n",
       "    <tr>\n",
       "      <th>4</th>\n",
       "      <td>And Then There Were None</td>\n",
       "      <td>Agatha Christie</td>\n",
       "      <td>English</td>\n",
       "      <td>1939</td>\n",
       "      <td>100</td>\n",
       "      <td>mystery</td>\n",
       "    </tr>\n",
       "    <tr>\n",
       "      <th>...</th>\n",
       "      <td>...</td>\n",
       "      <td>...</td>\n",
       "      <td>...</td>\n",
       "      <td>...</td>\n",
       "      <td>...</td>\n",
       "      <td>...</td>\n",
       "    </tr>\n",
       "    <tr>\n",
       "      <th>102</th>\n",
       "      <td>The Secret</td>\n",
       "      <td>Rhonda Byrne</td>\n",
       "      <td>English</td>\n",
       "      <td>2006</td>\n",
       "      <td>20</td>\n",
       "      <td>self-help</td>\n",
       "    </tr>\n",
       "    <tr>\n",
       "      <th>103</th>\n",
       "      <td>Fear of Flying</td>\n",
       "      <td>Erica Jong</td>\n",
       "      <td>English</td>\n",
       "      <td>1973</td>\n",
       "      <td>20</td>\n",
       "      <td>romantic novel</td>\n",
       "    </tr>\n",
       "    <tr>\n",
       "      <th>104</th>\n",
       "      <td>Dune</td>\n",
       "      <td>Frank Herbert</td>\n",
       "      <td>English</td>\n",
       "      <td>1965</td>\n",
       "      <td>20</td>\n",
       "      <td>science fiction novel</td>\n",
       "    </tr>\n",
       "    <tr>\n",
       "      <th>105</th>\n",
       "      <td>Charlie and the Chocolate Factory</td>\n",
       "      <td>Roald Dahl</td>\n",
       "      <td>English</td>\n",
       "      <td>1964</td>\n",
       "      <td>20</td>\n",
       "      <td>children's fantasy novel</td>\n",
       "    </tr>\n",
       "    <tr>\n",
       "      <th>106</th>\n",
       "      <td>The Naked Ape</td>\n",
       "      <td>Desmond Morris</td>\n",
       "      <td>English</td>\n",
       "      <td>1968</td>\n",
       "      <td>20</td>\n",
       "      <td>social science, anthropology, psychology</td>\n",
       "    </tr>\n",
       "  </tbody>\n",
       "</table>\n",
       "<p>107 rows × 6 columns</p>\n",
       "</div>"
      ],
      "text/plain": [
       "                                        Title                    Author  \\\n",
       "0                                 Don Quixote       Miguel de Cervantes   \n",
       "1                        A Tale of Two Cities           Charles Dickens   \n",
       "2         The Little Prince (Le Petit Prince)  Antoine de Saint-Exupéry   \n",
       "3    Harry Potter and the Philosopher's Stone             J. K. Rowling   \n",
       "4                    And Then There Were None           Agatha Christie   \n",
       "..                                        ...                       ...   \n",
       "102                                The Secret              Rhonda Byrne   \n",
       "103                            Fear of Flying                Erica Jong   \n",
       "104                                      Dune             Frank Herbert   \n",
       "105         Charlie and the Chocolate Factory                Roald Dahl   \n",
       "106                             The Naked Ape            Desmond Morris   \n",
       "\n",
       "    Language  Publication Date  Copies Sold (millions)  \\\n",
       "0    Spanish              1605                     500   \n",
       "1    English              1859                     200   \n",
       "2     French              1943                     200   \n",
       "3    English              1997                     120   \n",
       "4    English              1939                     100   \n",
       "..       ...               ...                     ...   \n",
       "102  English              2006                      20   \n",
       "103  English              1973                      20   \n",
       "104  English              1965                      20   \n",
       "105  English              1964                      20   \n",
       "106  English              1968                      20   \n",
       "\n",
       "                                        Genre  \n",
       "0                           adventure fiction  \n",
       "1                          historical fiction  \n",
       "2                                     novella  \n",
       "3                                     fantasy  \n",
       "4                                     mystery  \n",
       "..                                        ...  \n",
       "102                                 self-help  \n",
       "103                            romantic novel  \n",
       "104                     science fiction novel  \n",
       "105                  children's fantasy novel  \n",
       "106  social science, anthropology, psychology  \n",
       "\n",
       "[107 rows x 6 columns]"
      ]
     },
     "execution_count": 62,
     "metadata": {},
     "output_type": "execute_result"
    }
   ],
   "source": [
    "\n",
    "\n",
    "df = pd.DataFrame(list(zip(titles, authors, languages, dates, copies_sold, genres)),\n",
    "               columns =['Title', 'Author', 'Language', 'Publication Date', 'Copies Sold (millions)', 'Genre'])\n",
    "\n",
    "df"
   ]
  },
  {
   "cell_type": "code",
   "execution_count": 63,
   "id": "9ff0f888",
   "metadata": {},
   "outputs": [
    {
     "name": "stdout",
     "output_type": "stream",
     "text": [
      "r = 0.5724757158175904 p = 1.176754372958472e-10\n"
     ]
    },
    {
     "data": {
      "image/png": "[encoded data removed]",
      "text/plain": [
       "<Figure size 640x480 with 1 Axes>"
      ]
     },
     "metadata": {},
     "output_type": "display_data"
    }
   ],
   "source": [
    "# time in print vs approximate sales\n",
    "df['Years in Print'] = 2023 - df['Publication Date']\n",
    "df\n",
    "ax = sns.regplot(data=df, x='Years in Print', y='Copies Sold (millions)').set(title='Years in Print vs Book Copies Sold')\n",
    "(r,p) = stats.pearsonr(df['Years in Print'], df['Copies Sold (millions)'])\n",
    "print('r =', r, 'p =', p)\n"
   ]
  },
  {
   "cell_type": "code",
   "execution_count": 64,
   "id": "67a81891",
   "metadata": {},
   "outputs": [
    {
     "name": "stdout",
     "output_type": "stream",
     "text": [
      "r = 0.17305443469169166 p = 0.07606494265883561\n"
     ]
    },
    {
     "data": {
      "image/png": "[encoded data removed]",
      "text/plain": [
       "<Figure size 640x480 with 1 Axes>"
      ]
     },
     "metadata": {},
     "output_type": "display_data"
    }
   ],
   "source": [
    "# taking out don quixote\n",
    "no_don = df[df['Years in Print'] < 300]\n",
    "ax = sns.regplot(data=no_don, x='Years in Print', y='Copies Sold (millions)').set(title='Years in Print vs Book Copies Sold')\n",
    "(r,p) = stats.pearsonr(no_don['Years in Print'], no_don['Copies Sold (millions)'])\n",
    "print('r =', r, 'p =', p)"
   ]
  },
  {
   "cell_type": "code",
   "execution_count": null,
   "id": "8d9b29d2-37f8-4d67-ad8c-b16f3631dc67",
   "metadata": {},
   "outputs": [],
   "source": []
  }
 ],
 "metadata": {
  "kernelspec": {
   "display_name": "Python 3 (ipykernel)",
   "language": "python",
   "name": "python3"
  },
  "language_info": {
   "codemirror_mode": {
    "name": "ipython",
    "version": 3
   },
   "file_extension": ".py",
   "mimetype": "text/x-python",
   "name": "python",
   "nbconvert_exporter": "python",
   "pygments_lexer": "ipython3",
   "version": "3.9.13"
  }
 },
 "nbformat": 4,
 "nbformat_minor": 5
}
